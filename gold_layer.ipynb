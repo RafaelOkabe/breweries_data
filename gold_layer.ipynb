{
 "cells": [
  {
   "cell_type": "code",
   "execution_count": 0,
   "metadata": {
    "application/vnd.databricks.v1+cell": {
     "cellMetadata": {
      "byteLimit": 2048000,
      "rowLimit": 10000
     },
     "inputWidgets": {},
     "nuid": "3718adff-76f5-487c-ae5c-2c795293dc42",
     "showTitle": false,
     "tableResultSettingsMap": {},
     "title": ""
    }
   },
   "outputs": [],
   "source": [
    "from datetime import datetime\n",
    "from pyspark.sql import SparkSession\n",
    "from pyspark.sql.functions import col, when, current_timestamp, regexp_replace, count"
   ]
  },
  {
   "cell_type": "code",
   "execution_count": 0,
   "metadata": {
    "application/vnd.databricks.v1+cell": {
     "cellMetadata": {
      "byteLimit": 2048000,
      "rowLimit": 10000
     },
     "inputWidgets": {},
     "nuid": "0385ca3f-7228-42aa-9d3c-90af234775af",
     "showTitle": false,
     "tableResultSettingsMap": {},
     "title": ""
    }
   },
   "outputs": [],
   "source": [
    "spark = SparkSession.builder\\\n",
    "    .appName(\"gold_layer\")\\\n",
    "    .getOrCreate()"
   ]
  },
  {
   "cell_type": "code",
   "execution_count": 0,
   "metadata": {
    "application/vnd.databricks.v1+cell": {
     "cellMetadata": {
      "byteLimit": 2048000,
      "rowLimit": 10000
     },
     "inputWidgets": {},
     "nuid": "bec823fb-86b8-488d-8e93-50bbae767e37",
     "showTitle": false,
     "tableResultSettingsMap": {},
     "title": ""
    }
   },
   "outputs": [],
   "source": [
    "SILVER_PATH = \"/mnt/breweries/silver/breweries.parquet\"\n",
    "GOLD_PATH = \"/mnt/breweries/gold/\""
   ]
  },
  {
   "cell_type": "code",
   "execution_count": 0,
   "metadata": {
    "application/vnd.databricks.v1+cell": {
     "cellMetadata": {
      "byteLimit": 2048000,
      "rowLimit": 10000
     },
     "inputWidgets": {},
     "nuid": "270552cb-0306-43e8-8705-db33729b01ca",
     "showTitle": false,
     "tableResultSettingsMap": {},
     "title": ""
    }
   },
   "outputs": [],
   "source": [
    "def gold_layer():\n",
    "    if not dbutils.fs.ls(SILVER_PATH):\n",
    "        return 'No data found in Silver layer'\n",
    "\n",
    "    df_silver = spark.read.parquet(SILVER_PATH)\n",
    "    df_gold = df_silver.groupBy(\"state\", \"brewery_type\").agg(count(\"id\").alias(\"brewery_count\"))\n",
    "\n",
    "    df_gold = df_gold.orderBy([\"state\", \"brewery_type\", \"brewery_count\"], ascending=[True, True, False])\n",
    "\n",
    "    # Salvando csv\n",
    "    df_gold.write.mode('overwrite').option(\"header\", \"true\").csv(GOLD_PATH)\n",
    "\n",
    "    return f'Gold layer updated with aggregated data, output_path: {GOLD_PATH}'"
   ]
  },
  {
   "cell_type": "code",
   "execution_count": 0,
   "metadata": {
    "application/vnd.databricks.v1+cell": {
     "cellMetadata": {
      "byteLimit": 2048000,
      "rowLimit": 10000
     },
     "inputWidgets": {},
     "nuid": "18b253f0-6716-413e-af8b-6d8d45a3040f",
     "showTitle": false,
     "tableResultSettingsMap": {},
     "title": ""
    }
   },
   "outputs": [],
   "source": [
    "print('RUNNING GOLD LAYER...')\n",
    "print(gold_layer())\n",
    "print('GOLD LAYER FINISH WITH SUCCESS!')"
   ]
  }
 ],
 "metadata": {
  "application/vnd.databricks.v1+notebook": {
   "computePreferences": null,
   "dashboards": [],
   "environmentMetadata": {
    "base_environment": "",
    "environment_version": "2"
   },
   "language": "python",
   "notebookMetadata": {
    "pythonIndentUnit": 4
   },
   "notebookName": "gold_layer",
   "widgets": {}
  },
  "language_info": {
   "name": "python"
  }
 },
 "nbformat": 4,
 "nbformat_minor": 0
}
